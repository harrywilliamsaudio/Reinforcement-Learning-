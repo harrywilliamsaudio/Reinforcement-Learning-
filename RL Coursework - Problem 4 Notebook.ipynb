{
 "cells": [
  {
   "cell_type": "code",
   "execution_count": 1,
   "metadata": {},
   "outputs": [],
   "source": [
    "import numpy as np\n",
    "import matplotlib\n",
    "import matplotlib.pyplot as plt\n",
    "from tqdm import tqdm\n",
    "%matplotlib inline"
   ]
  },
  {
   "cell_type": "code",
   "execution_count": 2,
   "metadata": {},
   "outputs": [],
   "source": [
    "grid_Y  = 4\n",
    "grid_X  = 12\n",
    "epsilon = 0.1\n",
    "alpha   = 0.5\n",
    "gamma   = 1\n",
    "\n",
    "# Start State, and Target State \n",
    "startState = [3, 0]\n",
    "goalState  = [3, 11]\n",
    "\n",
    "# Available Actions\n",
    "actionUp    = 0\n",
    "actionDown  = 1\n",
    "actionLeft  = 2\n",
    "actionRight = 3\n",
    "actionSet   = [actionUp, actionDown, actionLeft, actionRight]"
   ]
  },
  {
   "cell_type": "code",
   "execution_count": 3,
   "metadata": {},
   "outputs": [],
   "source": [
    "# Returns the reward based off the state and action taken \n",
    "def step(state, action):\n",
    "    i, j = state\n",
    "    if action == actionUp:\n",
    "        nextState = [max(i - 1, 0), j]\n",
    "    elif action == actionLeft:\n",
    "        nextState = [i, max(j - 1, 0)]\n",
    "    elif action == actionRight:\n",
    "        nextState = [i, min(j + 1, grid_X - 1)]\n",
    "    elif action == actionDown:\n",
    "        nextState = [min(i + 1, grid_Y - 1), j]\n",
    "    else:\n",
    "        assert False\n",
    "\n",
    "    reward = -1\n",
    "    if (action == actionDown and i == 2 and 1 <= j <= 10) or (\n",
    "        action == actionRight and state == startState):\n",
    "        reward = -100\n",
    "        nextState = startState\n",
    "\n",
    "    return nextState, reward\n",
    "\n",
    "# Choose an action based on the epsilon greedy algorithim\n",
    "def chooseAction(state, Q_Value):\n",
    "    if np.random.binomial(1, epsilon) == 1:\n",
    "        return np.random.choice(actionSet)\n",
    "    else:\n",
    "        values_ = Q_Value[state[0], state[1], :]\n",
    "        return np.random.choice([action_ for action_, value_ in enumerate(values_) if value_ == np.max(values_)])"
   ]
  },
  {
   "cell_type": "code",
   "execution_count": 4,
   "metadata": {},
   "outputs": [],
   "source": [
    "# Sarsa algorithm \n",
    "def sarsa(Q_Value, stepSize = alpha):\n",
    "    state   = startState\n",
    "    action  = chooseAction(state, Q_Value)\n",
    "    rewards = 0\n",
    "\n",
    "    while state != goalState:\n",
    "        nextState, reward = step(state, action)\n",
    "        nextAction = chooseAction(nextState, Q_Value)\n",
    "        rewards = rewards + reward\n",
    "        \n",
    "        # Expected value of new state \n",
    "        target    = 0\n",
    "        Q_Prime   = Q_Value[nextState[0], nextState[1], :]\n",
    "        maxAction = np.argwhere(Q_Prime == np.max(Q_Prime))\n",
    "        \n",
    "        for action_ in actionSet:\n",
    "            if action_ in maxAction:\n",
    "                target += ((1.0 - epsilon) / len(maxAction) + epsilon / len(actionSet)) * Q_Value[nextState[0], nextState[1], action_]\n",
    "            else:\n",
    "                target += epsilon / len(actionSet) * Q_Value[nextState[0], nextState[1], action_]\n",
    "\n",
    "        Q_Value[state[0], state[1], action] += stepSize * (reward + target - Q_Value[state[0], state[1], action])\n",
    "        state = nextState\n",
    "        action = nextAction\n",
    "    return rewards\n"
   ]
  },
  {
   "cell_type": "code",
   "execution_count": 5,
   "metadata": {},
   "outputs": [],
   "source": [
    "# Q-Learning algorithm \n",
    "def q_learning(Q_Value, stepSize = alpha):\n",
    "    state   = startState\n",
    "    rewards = 0\n",
    "    while state != goalState: \n",
    "        action   = chooseAction(state, Q_Value)\n",
    "        nextState, reward = step(state, action)\n",
    "        rewards = rewards + reward\n",
    "        \n",
    "        # Q-Learning update\n",
    "        Q_Value[state[0], state[1], action] += stepSize   * (reward + gamma * np.max(Q_Value[nextState[0], nextState[1], :]) - Q_Value[state[0], state[1], action])\n",
    "        state = nextState\n",
    "    return rewards"
   ]
  },
  {
   "cell_type": "code",
   "execution_count": 6,
   "metadata": {},
   "outputs": [],
   "source": [
    "def figure_6_4():\n",
    "    # Episodes for the run\n",
    "    eps  = 500\n",
    "\n",
    "    # Perform x many runs \n",
    "    runs = 20\n",
    "    \n",
    "    # Initialises empty arrays for the rewards \n",
    "    q_learning_rewards = np.zeros(eps)\n",
    "    sarsa_rewards      = np.zeros(eps)        \n",
    "    \n",
    "    # Simultaneously runs the Sarsa and Q-Learning algorithim on the same gridworld \n",
    "    \n",
    "    for r in tqdm(range(runs)):\n",
    "        sarsa_q      = np.zeros((grid_Y, grid_X, 4))\n",
    "        q_learning_q = np.zeros((grid_Y, grid_X, 4))\n",
    "        \n",
    "        for i in range(0, eps):\n",
    "            sarsa_rewards[i]      = sarsa_rewards[i] + max(sarsa(sarsa_q), -100)\n",
    "            q_learning_rewards[i] = q_learning_rewards[i] + max(q_learning(q_learning_q), -100)\n",
    "            \n",
    "    # Takes a 10 point moving average \n",
    "    sarsa_rewards      = np.convolve(sarsa_rewards, np.ones((10,)) / 10, mode='valid') \n",
    "    q_learning_rewards = np.convolve(q_learning_rewards, np.ones((10,)) / 10, mode='valid') \n",
    "    \n",
    "    # Average\n",
    "    sarsa_rewards      = sarsa_rewards / runs\n",
    "    q_learning_rewards = q_learning_rewards / runs\n",
    "    \n",
    "    # Draw reward lines\n",
    "    plt.figure(figsize = (10,5)) \n",
    "    plt.plot(sarsa_rewards, label = 'Sarsa', color = '#FFC107')\n",
    "    plt.plot(q_learning_rewards, label = 'Q-Learning', color = '#1E88E5')\n",
    "    plt.yticks(np.arange(-100, 0, step = 25))\n",
    "    plt.xlabel('Episodes')\n",
    "    plt.ylabel('Sum of rewards during episode')\n",
    "    plt.legend()\n",
    "\n",
    "    "
   ]
  },
  {
   "cell_type": "code",
   "execution_count": 7,
   "metadata": {
    "scrolled": true
   },
   "outputs": [
    {
     "name": "stderr",
     "output_type": "stream",
     "text": [
      "100%|██████████| 20/20 [00:20<00:00,  1.02s/it]\n"
     ]
    },
    {
     "data": {
      "image/png": "[encoded data removed]",
      "text/plain": [
       "<Figure size 720x360 with 1 Axes>"
      ]
     },
     "metadata": {
      "needs_background": "light"
     },
     "output_type": "display_data"
    }
   ],
   "source": [
    "figure_6_4()"
   ]
  },
  {
   "cell_type": "code",
   "execution_count": null,
   "metadata": {},
   "outputs": [],
   "source": []
  }
 ],
 "metadata": {
  "kernelspec": {
   "display_name": "Python 3",
   "language": "python",
   "name": "python3"
  },
  "language_info": {
   "codemirror_mode": {
    "name": "ipython",
    "version": 3
   },
   "file_extension": ".py",
   "mimetype": "text/x-python",
   "name": "python",
   "nbconvert_exporter": "python",
   "pygments_lexer": "ipython3",
   "version": "3.7.1"
  }
 },
 "nbformat": 4,
 "nbformat_minor": 2
}
